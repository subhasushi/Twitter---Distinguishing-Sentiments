{
 "cells": [
  {
   "cell_type": "code",
   "execution_count": null,
   "metadata": {
    "collapsed": true
   },
   "outputs": [],
   "source": [
    "#import dependencies\n",
    "import tweepy\n",
    "import numpy as np\n",
    "import matplotlib.pyplot as plt\n",
    "import pandas as pd\n",
    "from datetime import datetime\n",
    "from datetime import date\n",
    "\n",
    "# Twitter API Keys\n",
    "from config import (consumer_key, consumer_secret, \n",
    "                    access_token, access_token_secret)\n",
    "\n",
    "#import and initialise sentiment analyzer\n",
    "from vaderSentiment.vaderSentiment import SentimentIntensityAnalyzer\n",
    "analyzer = SentimentIntensityAnalyzer()\n",
    "\n",
    "# Setup Tweepy API Authentication\n",
    "auth = tweepy.OAuthHandler(consumer_key, consumer_secret)\n",
    "auth.set_access_token(access_token, access_token_secret)\n",
    "api = tweepy.API(auth, parser=tweepy.parsers.JSONParser())"
   ]
  },
  {
   "cell_type": "code",
   "execution_count": null,
   "metadata": {
    "collapsed": true
   },
   "outputs": [],
   "source": [
    "# Target Search Term\n",
    "news_channel = (\"@BBC\", \"@CBSNews\", \"@CNN\",\"@FoxNews\", \"@nytimes\")\n",
    "\n",
    "# Variables for holding sentiments\n",
    "compound_list = []\n",
    "positive_list = []\n",
    "negative_list = []\n",
    "neutral_list = []\n",
    "\n",
    "# Variables for holding sentiments\n",
    "sentiments = []\n",
    "\n",
    "#Loop through each newschannel items\n",
    "for channel in news_channel:\n",
    "    \n",
    "    # Counter\n",
    "    counter = 1    \n",
    "    \n",
    "    # Variable for holding the oldest tweet\n",
    "    oldest_tweet = None    \n",
    "    \n",
    "     # Loop through 5 times\n",
    "    for x in range(2):\n",
    "\n",
    "        # Run search around each tweet\n",
    "        public_tweets = api.search(channel, count=10, result_type=\"recent\", max_id=oldest_tweet)\n",
    "\n",
    "        # Loop through all tweets\n",
    "        for tweet in public_tweets[\"statuses\"]:\n",
    "\n",
    "            # Run Vader Analysis on each tweet\n",
    "            results = analyzer.polarity_scores(tweet[\"text\"])\n",
    "            compound = results[\"compound\"]\n",
    "            pos = results[\"pos\"]\n",
    "            neu = results[\"neu\"]\n",
    "            neg = results[\"neg\"]\n",
    "            tweets_ago = counter\n",
    "\n",
    "                # Add each value to the appropriate array\n",
    "            compound_list.append(compound)\n",
    "            positive_list.append(pos)\n",
    "            negative_list.append(neg)\n",
    "            neutral_list.append(neu)\n",
    "                \n",
    "                # Set the new oldest_tweet value\n",
    "            oldest_tweet = int(tweet[\"id_str\"]) - 1\n",
    "            \n",
    "            #storing the average sentiments in variables\n",
    "            compound_score = round(np.mean(compound_list),2)\n",
    "            positive_score  = round(np.mean(positive_list),2)\n",
    "            negative_score = round(np.mean(neutral_list),2)\n",
    "            neutral_score = round(np.mean(negative_list),2)\n",
    "            \n",
    "            #storing the values ina dictionary\n",
    "            sentiments.append({\n",
    "                            \"Channel\": channel,\n",
    "                            \"Date\": tweet[\"created_at\"], \n",
    "                           \"Compound\": compound,\n",
    "                           \"Positive\": pos,\n",
    "                           \"Negative\": neu,\n",
    "                           \"Neutral\": neg,\n",
    "                           \"Tweets Ago\": counter})\n",
    "        \n",
    "            # Add to counter \n",
    "            counter = counter + 1\n"
   ]
  },
  {
   "cell_type": "code",
   "execution_count": null,
   "metadata": {},
   "outputs": [],
   "source": [
    "# Convert sentiments to DataFrame\n",
    "sentiments_pd = pd.DataFrame.from_dict(sentiments)\n",
    "sentiments_pd.head()"
   ]
  },
  {
   "cell_type": "code",
   "execution_count": null,
   "metadata": {},
   "outputs": [],
   "source": [
    "# #plotting \n",
    "\n",
    "# color = {\"@BBC\":\"cyan\", \"@CBSNews\": \"forest green\" , \"@CNN\": \"red\",\"@FoxNews\": \"royal blue\", \"@nytimes\":\"gold\"}\n",
    "# plt.scatter(x= sentiments_pd[\"Tweets Ago\"],y = sentiments_pd[\"Compound\"], s= sentiments_pd[\"Date\"], marker=\"o\", color = color,\n",
    "#          alpha=0.8)\n",
    "\n",
    "# # Incorporate the other graph properties\n",
    "# now = datetime.now()\n",
    "# now = now.strftime(\"%Y-%m-%d %H:%M\")\n",
    "# plt.title(f\"Sentiment Analysis of Media Tweets {date.today()}\")\n",
    "# plt.ylabel(\"Tweet Polarity\")\n",
    "# plt.xlabel(\"Tweets Ago\")\n",
    "# plt.ylim(-1,1)\n",
    "# plt.show()"
   ]
  },
  {
   "cell_type": "code",
   "execution_count": null,
   "metadata": {
    "collapsed": true
   },
   "outputs": [],
   "source": [
    "#Plotting bar graph\n",
    "x_axis = np.arange(len(news_channell))\n",
    "print(x_axis)\n",
    "#plt.bar(x_axis, users, color='r', alpha=0.5, align=\"edge\")"
   ]
  },
  {
   "cell_type": "code",
   "execution_count": null,
   "metadata": {
    "collapsed": true
   },
   "outputs": [],
   "source": []
  }
 ],
 "metadata": {
  "kernelspec": {
   "display_name": "Python 3",
   "language": "python",
   "name": "python3"
  },
  "language_info": {
   "codemirror_mode": {
    "name": "ipython",
    "version": 3
   },
   "file_extension": ".py",
   "mimetype": "text/x-python",
   "name": "python",
   "nbconvert_exporter": "python",
   "pygments_lexer": "ipython3",
   "version": "3.6.2"
  }
 },
 "nbformat": 4,
 "nbformat_minor": 2
}
